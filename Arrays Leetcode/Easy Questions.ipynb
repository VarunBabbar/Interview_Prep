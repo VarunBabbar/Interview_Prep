{
 "cells": [
  {
   "cell_type": "markdown",
   "metadata": {},
   "source": [
    "# Array Questions - Easy"
   ]
  },
  {
   "cell_type": "markdown",
   "metadata": {},
   "source": [
    "### Question 1:\n",
    "\n",
    "#### Remove Duplicates from Sorted Array ####\n",
    "\n",
    "**Type: Two-Pointer**\n",
    "\n",
    "Given a sorted array nums, remove the duplicates in-place such that each element appear only once and return the new length.\n",
    "\n",
    "Do not allocate extra space for another array, you must do this by modifying the input array in-place with O(1) extra memory.\n",
    "\n",
    "```\n",
    "Given nums = [1,1,2],\n",
    "\n",
    "Your function should return length = 2, with the first two elements of nums being 1 and 2 respectively.\n",
    "\n",
    "It doesn't matter what you leave beyond the returned length.\n",
    "\n",
    "```\n",
    "\n",
    "**return**: Index at which the sorted unique array ends "
   ]
  },
  {
   "cell_type": "code",
   "execution_count": 1,
   "metadata": {},
   "outputs": [
    {
     "name": "stdout",
     "output_type": "stream",
     "text": [
      "Index: 1\n",
      "[1, 2, 2]\n"
     ]
    }
   ],
   "source": [
    "#Solution\n",
    "nums = [1,1,2]\n",
    "pointer = 0\n",
    "for i in range(0, len(nums)):\n",
    "    if nums[pointer] != nums[i]:\n",
    "        pointer +=1\n",
    "        nums[pointer] = nums[i]\n",
    "print(\"Index:\", pointer)\n",
    "print(nums)\n",
    "        "
   ]
  },
  {
   "cell_type": "markdown",
   "metadata": {},
   "source": [
    "### Explaination\n",
    "\n",
    "This problem is under two pointer array problems, in this case `i` and `pointer`. We initiate the `pointer` at zero, and whenever a new/unique number is seen by `i`, then we make index `pointer+1` equal to that number. \n",
    "\n",
    "So basically we keep a record of when the repetetion begins and then whenever we encounter a new number, we replace the start of repetition with the new number and increase the index at which the repetition begin by one. This works only because of sorted array criterion."
   ]
  }
 ],
 "metadata": {
  "kernelspec": {
   "display_name": "Python 3",
   "language": "python",
   "name": "python3"
  },
  "language_info": {
   "codemirror_mode": {
    "name": "ipython",
    "version": 3
   },
   "file_extension": ".py",
   "mimetype": "text/x-python",
   "name": "python",
   "nbconvert_exporter": "python",
   "pygments_lexer": "ipython3",
   "version": "3.7.6"
  }
 },
 "nbformat": 4,
 "nbformat_minor": 4
}
