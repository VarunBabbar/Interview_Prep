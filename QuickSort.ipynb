{
 "cells": [
  {
   "cell_type": "markdown",
   "metadata": {},
   "source": [
    "## Important Algorithms for Coding Interviews ##\n",
    "In this notebook, I am going to cover all the algorithms you need to know for coding interviews along with an application of each one of them. Hopefully this should cover all basics whilst reinforcing your knowledge of not only the relevant algorithms but also their applications in different problems."
   ]
  },
  {
   "cell_type": "code",
   "execution_count": 33,
   "metadata": {},
   "outputs": [
    {
     "name": "stdout",
     "output_type": "stream",
     "text": [
      "[1, -2, 3, 2, 0, 5, 20, 6, 8]\n",
      "[-2, 0, 3, 2, 1, 5, 20, 6, 8]\n",
      "[-2, 0, 3, 2, 1, 5, 20, 6, 8]\n",
      "[-2, 0, 1, 2, 3, 5, 20, 6, 8]\n",
      "[-2, 0, 1, 2, 3, 5, 20, 6, 8]\n",
      "[-2, 0, 1, 2, 3, 5, 20, 6, 8]\n",
      "[-2, 0, 1, 2, 3, 5, 6, 8, 20]\n",
      "[-2, 0, 1, 2, 3, 5, 6, 8, 20]\n",
      "[-2, 0, 1, 2, 3, 5, 6, 8, 20]\n",
      "[-2, 0, 1, 2, 3, 5, 6, 8, 20]\n"
     ]
    }
   ],
   "source": [
    "# QUICKSORT #\n",
    "\n",
    "# Features\n",
    "# 1. Space Complexity -> O(n log n) # Coz with each function call, a new stack must be allocated\n",
    "# 2. Average Time Complexity -> O(n log n)\n",
    "# 3. Worst Case Time Complexity -> O(n^2)\n",
    "\n",
    "def partition(low,high,array):\n",
    "    # For example, let the array be [0,2,5,6,1]\n",
    "    i = low - 1 # First pass -> low = 0, i = -1, high = 5\n",
    "    pivot = array[high] # Pivot = 1\n",
    "    for j in range(low,high): ###### Second Pass -> i = 0 #### Third pass -> i = 0 and steps below skipped\n",
    "        if array[j] <= pivot: # Array[0] (0) <= pivot (1) ###### Array[1] (2) > pivot (1)\n",
    "            i += 1 # i = 0 now ##### i = 0 now as step skipped\n",
    "            array[i],array[j] = array[j],array[i] # Nothing happens ##### Step skipped\n",
    "    \n",
    "    array[i+1],array[high] = array[high],array[i+1] # Ultimately, atj = 4\n",
    "    return i+1\n",
    "\n",
    "def quicksort(array,low,high):\n",
    "    pivot_final_pos = partition(low,high,array) \n",
    "    print(array)\n",
    "    # Pivot is always array[high] but after the partition function is executed, its position \n",
    "    # changes to pivot_final_pos\n",
    "    if pivot_final_pos > low:\n",
    "        array = quicksort(array,low,pivot_final_pos-1)\n",
    "    if pivot_final_pos < high:\n",
    "        array = quicksort(array,pivot_final_pos+1,high)\n",
    "    return array\n",
    "array = [1,-2,20,3,6,8,2,0,5]\n",
    "print(quicksort(array,0,len(array)-1))"
   ]
  },
  {
   "cell_type": "code",
   "execution_count": 81,
   "metadata": {},
   "outputs": [
    {
     "name": "stdout",
     "output_type": "stream",
     "text": [
      "[-2, 0, 1, 2, 3, 5, 6, 8, 20]\n"
     ]
    }
   ],
   "source": [
    "# BUBBLE SORT #\n",
    "\n",
    "# Features\n",
    "# 1. Space Complexity -> O(1) # Constant coz only the array is being manipulated\n",
    "# 2. Best Case Time Complexity -> O(n) # Occurs when the array is already sorted\n",
    "# 3. Worst Case and Average Case Time Complexity -> O(n^2) # Occurs when array is reverse sorted or in a random state respectively\n",
    "\n",
    "def bubblesort(array):\n",
    "    for j in range(len(array)):\n",
    "        swapped = False # If there are no swaps in one iteration, then it means the whole array is sorted (obviously)\n",
    "        for i in range(len(array)-j-1): # We loop from 0 to len(array) - j - 1\n",
    "            if array[i] > array[i+1]:\n",
    "                array[i+1],array[i] = array[i],array[i+1] \n",
    "                swapped = True\n",
    "        if not swapped:\n",
    "            break\n",
    "    return array\n",
    "array = [1,-2,20,3,6,8,2,0,5]\n",
    "print(bubblesort(array))"
   ]
  },
  {
   "cell_type": "code",
   "execution_count": 80,
   "metadata": {},
   "outputs": [
    {
     "name": "stdout",
     "output_type": "stream",
     "text": [
      "Left is [1]\n",
      "Right is [-2]\n",
      "Left is [-2, 1]\n",
      "Left is [20]\n",
      "Right is [3]\n",
      "Right is [3, 20]\n",
      "Left is [-2, 1, 3, 20]\n",
      "Left is [6]\n",
      "Right is [8]\n",
      "Left is [6, 8]\n",
      "Left is [2]\n",
      "Left is [0]\n",
      "Right is [5]\n",
      "Right is [0, 5]\n",
      "Right is [0, 2, 5]\n",
      "Right is [0, 2, 5, 6, 8]\n",
      "[-2, 0, 1, 2, 3, 5, 6, 8, 20]\n"
     ]
    }
   ],
   "source": [
    "# MERGE SORT #\n",
    "# Features\n",
    "# 1. Space Complexity -> O(n) # Coz we create 2 temporary arrays to store the numbers of the original array\n",
    "# 2. Best Case Time Complexity -> O(n log n) # Occurs when the array is already sorted\n",
    "# 3. Worst Case and Average Case Time Complexity -> O(n log n) # Occurs when array is reverse sorted or in a random state respectively\n",
    "\n",
    "def merge(left,right):\n",
    "    result = []\n",
    "    while left and right:\n",
    "        min_left = min(left)\n",
    "        min_right = min(right)\n",
    "        if min_left < min_right:\n",
    "            result.append(min_left)\n",
    "            left.pop(left.index(min_left))\n",
    "        else:\n",
    "            result.append(min_right)\n",
    "            right.pop(right.index(min_right))\n",
    "    if len(right) > len(left):\n",
    "        for i in range(len(right)):\n",
    "            result.append(min(right))\n",
    "            right.pop(right.index(min(right)))\n",
    "    elif len(left) > len(right):\n",
    "        for i in range(len(left)):\n",
    "            result.append(min(left))\n",
    "            left.pop(left.index(min(left)))\n",
    "    return result\n",
    "\n",
    "def mergesort(array):\n",
    "    if len(array) <= 1: # An array of length is, by definition, sorted\n",
    "        return array\n",
    "    left = []\n",
    "    right = []\n",
    "    for i in range(len(array)):\n",
    "        if i < int(len(array)/2):\n",
    "            left.append(array[i])\n",
    "        else:\n",
    "            right.append(array[i])\n",
    "    left = mergesort(left)\n",
    "    print(\"Left is \" + str(left))\n",
    "    right = mergesort(right)\n",
    "    print(\"Right is \" + str(right))\n",
    "    return merge(left, right)\n",
    "array = [1,-2,20,3,6,8,2,0,5]\n",
    "print(mergesort(array))\n",
    "    \n",
    "    \n",
    "    \n",
    "    \n",
    "    \n",
    "    "
   ]
  },
  {
   "cell_type": "code",
   "execution_count": null,
   "metadata": {},
   "outputs": [],
   "source": []
  }
 ],
 "metadata": {
  "kernelspec": {
   "display_name": "Python 3",
   "language": "python",
   "name": "python3"
  },
  "language_info": {
   "codemirror_mode": {
    "name": "ipython",
    "version": 3
   },
   "file_extension": ".py",
   "mimetype": "text/x-python",
   "name": "python",
   "nbconvert_exporter": "python",
   "pygments_lexer": "ipython3",
   "version": "3.7.4"
  }
 },
 "nbformat": 4,
 "nbformat_minor": 4
}
