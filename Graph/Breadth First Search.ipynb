{
 "cells": [
  {
   "cell_type": "markdown",
   "metadata": {},
   "source": [
    "#### Breadth First Search\n",
    "Breath First Search is foundation of many of the important graph algorithms. \n",
    "\n",
    "For a graph *G = (V,E)*, and a *source* *s*, BFS transverses all edges of G to discover all reachable vertices from *s*. It produces a tree with *s* as a root and all the reachable vertices as children.\n"
   ]
  },
  {
   "cell_type": "markdown",
   "metadata": {},
   "source": [
    "**Step 1: Creating a graph class**\n",
    "\n",
    "A great way to create a graph class is to use a default dict from collections. \n",
    "\n",
    "Read more about defaultdict from [here](https://www.geeksforgeeks.org/defaultdict-in-python/).\n",
    "\n",
    "Refer to implementation notebook to see how it can be done from scratch."
   ]
  },
  {
   "cell_type": "code",
   "execution_count": 1,
   "metadata": {},
   "outputs": [],
   "source": [
    "from collections import defaultdict"
   ]
  },
  {
   "cell_type": "code",
   "execution_count": 2,
   "metadata": {},
   "outputs": [],
   "source": [
    "class Graph:\n",
    "    def __init__(self):\n",
    "        self.graph = defaultdict(list)\n",
    "    def addEdge(self, u, v):\n",
    "        self.graph[u].append(v)"
   ]
  },
  {
   "cell_type": "markdown",
   "metadata": {},
   "source": [
    "**Step 2: Writing the BFS**\n",
    "\n",
    "Now let's write a BFS method which takes an Graph G and source s."
   ]
  },
  {
   "cell_type": "code",
   "execution_count": 3,
   "metadata": {},
   "outputs": [],
   "source": [
    "def BFS(G,s):\n",
    "    visited = [False]*(len(G.graph))\n",
    "    queue = []\n",
    "    queue.append(s)\n",
    "    visited[s] = True\n",
    "    connections = []\n",
    "    \n",
    "    while queue:\n",
    "        s = queue.pop(0)\n",
    "        connections.append(s)\n",
    "        \n",
    "        for i in G.graph[s]:\n",
    "            if visited[i] == False:\n",
    "                queue.append(i)\n",
    "                visited[i] = True\n",
    "    \n",
    "    return connections"
   ]
  },
  {
   "cell_type": "markdown",
   "metadata": {},
   "source": [
    "Let's try to understand the underlying concept. First we load all the nodes that is possible in the `visited` list. Then we add a `queue` which hold all the neighbours of that `source`. It then changes the source in next iteration and this goes on till there are items in the `queue`. Also, in this implementation we consider integers as input, however it can easily be manipulated to account for string via a mapping.\n",
    "\n",
    "This code has been taken from [geeksforgeeks](https://www.geeksforgeeks.org/breadth-first-search-or-bfs-for-a-graph/)."
   ]
  },
  {
   "cell_type": "markdown",
   "metadata": {},
   "source": [
    "**Step 3: Examples**"
   ]
  },
  {
   "cell_type": "code",
   "execution_count": 4,
   "metadata": {},
   "outputs": [],
   "source": [
    "g = Graph()\n",
    "g.addEdge(0,1)\n",
    "g.addEdge(0, 2) \n",
    "g.addEdge(1, 2) \n",
    "g.addEdge(2, 0) \n",
    "g.addEdge(2, 3) \n",
    "g.addEdge(3, 3)\n",
    "\n",
    "nodes = BFS(g, 2)"
   ]
  },
  {
   "cell_type": "code",
   "execution_count": 5,
   "metadata": {},
   "outputs": [
    {
     "name": "stdout",
     "output_type": "stream",
     "text": [
      "[2, 0, 3, 1]\n"
     ]
    }
   ],
   "source": [
    "print(nodes)"
   ]
  },
  {
   "cell_type": "code",
   "execution_count": 6,
   "metadata": {},
   "outputs": [
    {
     "name": "stdout",
     "output_type": "stream",
     "text": [
      "defaultdict(<class 'list'>, {0: [1, 2], 1: [2], 2: [0, 3], 3: [3]})\n"
     ]
    }
   ],
   "source": [
    "print(g.graph)"
   ]
  },
  {
   "cell_type": "markdown",
   "metadata": {},
   "source": [
    "Now we see that `2` is directly connected to `0` and `3`. Also `2` is connected to itself and finally `1` is connected to `2`"
   ]
  }
 ],
 "metadata": {
  "kernelspec": {
   "display_name": "Python 3",
   "language": "python",
   "name": "python3"
  },
  "language_info": {
   "codemirror_mode": {
    "name": "ipython",
    "version": 3
   },
   "file_extension": ".py",
   "mimetype": "text/x-python",
   "name": "python",
   "nbconvert_exporter": "python",
   "pygments_lexer": "ipython3",
   "version": "3.7.6"
  }
 },
 "nbformat": 4,
 "nbformat_minor": 4
}
